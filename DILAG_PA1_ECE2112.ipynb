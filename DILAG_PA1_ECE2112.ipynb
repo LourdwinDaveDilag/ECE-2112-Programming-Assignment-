{
 "cells": [
  {
   "cell_type": "markdown",
   "id": "96f80934",
   "metadata": {},
   "source": [
    "# Alphabet Soup"
   ]
  },
  {
   "cell_type": "code",
   "execution_count": 2,
   "id": "cf095fbe",
   "metadata": {},
   "outputs": [
    {
     "name": "stdout",
     "output_type": "stream",
     "text": [
      "Enter a word: hello\n",
      "e h l l o\n"
     ]
    }
   ],
   "source": [
    "alphabet_soup = input(\"Enter a word: \")\n",
    "def sortString(alphabet_soup):\n",
    "    return ' '.join(sorted(alphabet_soup))\n",
    "\n",
    "print (sortString(alphabet_soup))\n"
   ]
  },
  {
   "cell_type": "markdown",
   "id": "57d7781b",
   "metadata": {},
   "source": [
    "# Emoticon"
   ]
  },
  {
   "cell_type": "code",
   "execution_count": 5,
   "id": "d6c2f626",
   "metadata": {},
   "outputs": [
    {
     "name": "stdout",
     "output_type": "stream",
     "text": [
      "emotify: Make me smile\n",
      "Make me :)\n"
     ]
    }
   ],
   "source": [
    "def emotify(string):\n",
    "    \n",
    "    if(\"Make me smile\" in string):\n",
    "        string=string.replace(\"Make me smile\",\"Make me :)\");\n",
    "        \n",
    "    if(\"Make me grin\" in string):\n",
    "        string=string.replace(\"Make me grin\",\"Make me :D\");\n",
    "        \n",
    "    if(\"I am sad\" in string):\n",
    "        string=string.replace(\"I am sad\",\"I am :((\");\n",
    "        \n",
    "    if(\"I am mad\" in string):\n",
    "        string=string.replace(\"I am mad\",\"I am >:(\");\n",
    "        \n",
    "    print(string);\n",
    "    \n",
    "def main():\n",
    "    inputString=input(\"emotify: \");\n",
    "    emotify(inputString);\n",
    "    \n",
    "main();"
   ]
  },
  {
   "cell_type": "markdown",
   "id": "27bc2928",
   "metadata": {},
   "source": [
    "# Unpacking List"
   ]
  },
  {
   "cell_type": "code",
   "execution_count": 8,
   "id": "0c68e0ce",
   "metadata": {},
   "outputs": [
    {
     "name": "stdout",
     "output_type": "stream",
     "text": [
      "First: 1\n",
      "Middle: [2, 3, 4, 5, 6, 7, 8, 9]\n",
      "Last: 10\n"
     ]
    }
   ],
   "source": [
    "lst = [1,2,3,4,5,6,7,8,9,10]\n",
    "\n",
    "print(\"First: \"+str(lst[0]))\n",
    "print(\"Middle: \"+str(lst[1:-1]))\n",
    "print(\"Last: \"+str(lst[9]))\n"
   ]
  },
  {
   "cell_type": "code",
   "execution_count": null,
   "id": "b0690466",
   "metadata": {},
   "outputs": [],
   "source": []
  }
 ],
 "metadata": {
  "kernelspec": {
   "display_name": "Python 3 (ipykernel)",
   "language": "python",
   "name": "python3"
  },
  "language_info": {
   "codemirror_mode": {
    "name": "ipython",
    "version": 3
   },
   "file_extension": ".py",
   "mimetype": "text/x-python",
   "name": "python",
   "nbconvert_exporter": "python",
   "pygments_lexer": "ipython3",
   "version": "3.11.4"
  }
 },
 "nbformat": 4,
 "nbformat_minor": 5
}
